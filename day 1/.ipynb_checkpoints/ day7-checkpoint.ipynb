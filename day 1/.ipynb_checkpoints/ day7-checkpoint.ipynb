{
 "cells": [
  {
   "cell_type": "code",
   "execution_count": 1,
   "id": "2f0304d5-c992-4b14-b7e2-954cad33a0d5",
   "metadata": {},
   "outputs": [
    {
     "data": {
      "text/plain": [
       "7"
      ]
     },
     "execution_count": 1,
     "metadata": {},
     "output_type": "execute_result"
    }
   ],
   "source": [
    "3+4"
   ]
  },
  {
   "cell_type": "code",
   "execution_count": 2,
   "id": "4a490a05-93af-4e5f-87db-7df6b28d7790",
   "metadata": {},
   "outputs": [
    {
     "name": "stdout",
     "output_type": "stream",
     "text": [
      "welcome to machine learning\n"
     ]
    }
   ],
   "source": [
    "print('welcome to machine learning')"
   ]
  },
  {
   "cell_type": "code",
   "execution_count": 3,
   "id": "3dde1437-115e-4d4b-af70-c2ad962feaf0",
   "metadata": {},
   "outputs": [],
   "source": [
    "#1st Heading"
   ]
  },
  {
   "cell_type": "code",
   "execution_count": 4,
   "id": "4eddf61b-8df9-4058-870e-56969105859d",
   "metadata": {},
   "outputs": [],
   "source": [
    "# 1st heading\n"
   ]
  },
  {
   "cell_type": "code",
   "execution_count": 5,
   "id": "78078114-2d57-4873-88b1-34438f38a760",
   "metadata": {},
   "outputs": [],
   "source": [
    "# 1st Heading"
   ]
  },
  {
   "cell_type": "markdown",
   "id": "9b3e83f9-2de6-4dff-babd-2466af021606",
   "metadata": {},
   "source": [
    "# 1st heading"
   ]
  },
  {
   "cell_type": "markdown",
   "id": "7ab26590-d4da-43fa-ba3e-c3ae751d6a3d",
   "metadata": {},
   "source": [
    "* this is first point\n",
    "* this is second point"
   ]
  },
  {
   "cell_type": "markdown",
   "id": "652bae92-22da-43b3-86cb-8dd3ca02504e",
   "metadata": {},
   "source": [
    "1. this is first point\n",
    "2. this is second point"
   ]
  },
  {
   "cell_type": "code",
   "execution_count": 6,
   "id": "e00f4d44-7ce0-43a3-862f-d24eb53f2894",
   "metadata": {},
   "outputs": [
    {
     "ename": "SyntaxError",
     "evalue": "invalid syntax (2464787813.py, line 1)",
     "output_type": "error",
     "traceback": [
      "\u001b[1;36m  Input \u001b[1;32mIn [6]\u001b[1;36m\u001b[0m\n\u001b[1;33m    import as\u001b[0m\n\u001b[1;37m           ^\u001b[0m\n\u001b[1;31mSyntaxError\u001b[0m\u001b[1;31m:\u001b[0m invalid syntax\n"
     ]
    }
   ],
   "source": [
    " import as"
   ]
  },
  {
   "cell_type": "code",
   "execution_count": 7,
   "id": "21927552-1f87-4a4b-bcfc-fe5d39677414",
   "metadata": {},
   "outputs": [],
   "source": [
    "import os"
   ]
  },
  {
   "cell_type": "code",
   "execution_count": 8,
   "id": "09f2b0bb-5869-4459-87c7-e1dad1442175",
   "metadata": {},
   "outputs": [
    {
     "data": {
      "text/plain": [
       "'C:\\\\Users\\\\vidit\\\\OneDrive\\\\Desktop\\\\ML-training\\\\day 1'"
      ]
     },
     "execution_count": 8,
     "metadata": {},
     "output_type": "execute_result"
    }
   ],
   "source": [
    "os.getcwd()"
   ]
  },
  {
   "cell_type": "code",
   "execution_count": 9,
   "id": "ccf22cb0-d2de-4ea6-8155-dca707190dff",
   "metadata": {},
   "outputs": [
    {
     "ename": "AttributeError",
     "evalue": "module 'os' has no attribute 'chidr'",
     "output_type": "error",
     "traceback": [
      "\u001b[1;31m---------------------------------------------------------------------------\u001b[0m",
      "\u001b[1;31mAttributeError\u001b[0m                            Traceback (most recent call last)",
      "Input \u001b[1;32mIn [9]\u001b[0m, in \u001b[0;36m<cell line: 1>\u001b[1;34m()\u001b[0m\n\u001b[1;32m----> 1\u001b[0m \u001b[43mos\u001b[49m\u001b[38;5;241;43m.\u001b[39;49m\u001b[43mchidr\u001b[49m(\u001b[38;5;124m'\u001b[39m\u001b[38;5;124mC:\u001b[39m\u001b[38;5;130;01m\\\\\u001b[39;00m\u001b[38;5;124mUsers\u001b[39m\u001b[38;5;130;01m\\\\\u001b[39;00m\u001b[38;5;124mvidit\u001b[39m\u001b[38;5;130;01m\\\\\u001b[39;00m\u001b[38;5;124mOneDrive\u001b[39m\u001b[38;5;130;01m\\\\\u001b[39;00m\u001b[38;5;124mDesktop\u001b[39m\u001b[38;5;130;01m\\\\\u001b[39;00m\u001b[38;5;124mML-training\u001b[39m\u001b[38;5;130;01m\\\\\u001b[39;00m\u001b[38;5;124mday 7 python\u001b[39m\u001b[38;5;124m'\u001b[39m)\n",
      "\u001b[1;31mAttributeError\u001b[0m: module 'os' has no attribute 'chidr'"
     ]
    }
   ],
   "source": [
    "os.chidr('C:\\\\Users\\\\vidit\\\\OneDrive\\\\Desktop\\\\ML-training\\\\day 7 python')"
   ]
  },
  {
   "cell_type": "code",
   "execution_count": 10,
   "id": "7079e597-e36e-4993-8987-d235c2f37a12",
   "metadata": {},
   "outputs": [
    {
     "data": {
      "text/plain": [
       "'C:\\\\Users\\\\vidit\\\\OneDrive\\\\Desktop\\\\ML-training\\\\day 1'"
      ]
     },
     "execution_count": 10,
     "metadata": {},
     "output_type": "execute_result"
    }
   ],
   "source": [
    "os.getcwd()"
   ]
  },
  {
   "cell_type": "code",
   "execution_count": 11,
   "id": "d0de56ef-fb17-454d-97f6-4099af67bf04",
   "metadata": {},
   "outputs": [
    {
     "data": {
      "text/plain": [
       "['day 1', 'day 2.py']"
      ]
     },
     "execution_count": 11,
     "metadata": {},
     "output_type": "execute_result"
    }
   ],
   "source": [
    "os.listdir('C:\\\\Users\\\\vidit\\\\OneDrive\\\\Desktop\\\\ML-training')"
   ]
  },
  {
   "cell_type": "code",
   "execution_count": 12,
   "id": "45ebb3cf-327c-4203-8739-1b55e69e087e",
   "metadata": {},
   "outputs": [],
   "source": [
    "os.mkdir('empty_folder')"
   ]
  },
  {
   "cell_type": "code",
   "execution_count": 13,
   "id": "f8e09d3e-427d-4c8f-ab85-5402c41714fc",
   "metadata": {},
   "outputs": [],
   "source": [
    "os.rmdir('empty_folder')"
   ]
  },
  {
   "cell_type": "markdown",
   "id": "343fd3c0-0f3b-44dc-9e25-23d3795bf663",
   "metadata": {},
   "source": [
    "# Random"
   ]
  },
  {
   "cell_type": "code",
   "execution_count": 14,
   "id": "7387dce8-135b-43b4-9929-b4dfef6347c9",
   "metadata": {},
   "outputs": [],
   "source": [
    "import random"
   ]
  },
  {
   "cell_type": "code",
   "execution_count": 15,
   "id": "0e5fd2a8-724d-428a-934c-3cb1eb32e5ce",
   "metadata": {},
   "outputs": [
    {
     "name": "stdout",
     "output_type": "stream",
     "text": [
      "0.14896519144738363\n"
     ]
    }
   ],
   "source": [
    "val = random.random()\n",
    "print(val)"
   ]
  },
  {
   "cell_type": "code",
   "execution_count": 16,
   "id": "2647b5f2-354e-433b-9f05-c454b4f29b4d",
   "metadata": {},
   "outputs": [],
   "source": [
    "val2= random.randint(1,10)"
   ]
  },
  {
   "cell_type": "code",
   "execution_count": 17,
   "id": "f00acc2a-1b77-4491-b54d-051a64a69f98",
   "metadata": {},
   "outputs": [
    {
     "name": "stdout",
     "output_type": "stream",
     "text": [
      "6\n"
     ]
    }
   ],
   "source": [
    "print(val2)"
   ]
  },
  {
   "cell_type": "code",
   "execution_count": 18,
   "id": "f173f1f9-d95f-49a9-bd0d-eb8299b8d9be",
   "metadata": {},
   "outputs": [
    {
     "name": "stdout",
     "output_type": "stream",
     "text": [
      "6\n"
     ]
    }
   ],
   "source": [
    "print(val2)"
   ]
  },
  {
   "cell_type": "code",
   "execution_count": 19,
   "id": "75af5a47-a315-4bae-b2ee-d36570836791",
   "metadata": {},
   "outputs": [
    {
     "name": "stdout",
     "output_type": "stream",
     "text": [
      "6\n"
     ]
    }
   ],
   "source": [
    "print(val2)"
   ]
  },
  {
   "cell_type": "code",
   "execution_count": 20,
   "id": "09ef8dd2-7996-4559-82bb-3881001dc368",
   "metadata": {},
   "outputs": [
    {
     "name": "stdout",
     "output_type": "stream",
     "text": [
      "hayy\n"
     ]
    }
   ],
   "source": [
    "m=['hi','hello','hayy','hawdy']\n",
    "val = random.choice(m)\n",
    "print(val)"
   ]
  },
  {
   "cell_type": "raw",
   "id": "2fb2c645-e563-4df3-840d-2b663af81871",
   "metadata": {},
   "source": [
    "print(val)"
   ]
  },
  {
   "cell_type": "code",
   "execution_count": null,
   "id": "0984a85a-f43e-4531-9fbe-697eb7a0b1ab",
   "metadata": {},
   "outputs": [],
   "source": []
  },
  {
   "cell_type": "code",
   "execution_count": 21,
   "id": "8b2cf13c-b37e-41c8-b08d-4fd9f557e95a",
   "metadata": {},
   "outputs": [
    {
     "name": "stdout",
     "output_type": "stream",
     "text": [
      "hayy\n"
     ]
    }
   ],
   "source": [
    "print(val)"
   ]
  },
  {
   "cell_type": "code",
   "execution_count": 22,
   "id": "174793f9-0943-4b4f-a2f7-5994e681aed3",
   "metadata": {},
   "outputs": [
    {
     "name": "stdout",
     "output_type": "stream",
     "text": [
      "['hayy', 'hi']\n"
     ]
    }
   ],
   "source": [
    "m=['hi','hello','hayy','hawdy']\n",
    "val = random.choices(m,k=2)\n",
    "print(val)"
   ]
  },
  {
   "cell_type": "code",
   "execution_count": 23,
   "id": "e1ae239b-0617-4648-8e6c-2df20649457b",
   "metadata": {},
   "outputs": [
    {
     "name": "stdout",
     "output_type": "stream",
     "text": [
      "['hello', 'hayy', 'hawdy', 'hi']\n"
     ]
    }
   ],
   "source": [
    "# shuffle\n",
    "random.shuffle(m)\n",
    "print(m)"
   ]
  },
  {
   "cell_type": "code",
   "execution_count": null,
   "id": "de22e1ac-6542-4246-bfe0-f8480969427b",
   "metadata": {},
   "outputs": [],
   "source": []
  }
 ],
 "metadata": {
  "kernelspec": {
   "display_name": "Python 3 (ipykernel)",
   "language": "python",
   "name": "python3"
  },
  "language_info": {
   "codemirror_mode": {
    "name": "ipython",
    "version": 3
   },
   "file_extension": ".py",
   "mimetype": "text/x-python",
   "name": "python",
   "nbconvert_exporter": "python",
   "pygments_lexer": "ipython3",
   "version": "3.9.12"
  }
 },
 "nbformat": 4,
 "nbformat_minor": 5
}
